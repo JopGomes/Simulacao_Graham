{
 "cells": [
  {
   "cell_type": "code",
   "execution_count": 1,
   "id": "d2ed2dc5",
   "metadata": {},
   "outputs": [],
   "source": [
    "#Definição das funções\n",
    "\n",
    "\n",
    "import numpy as np\n",
    "import matplotlib.pyplot as plt\n",
    "\n",
    "# Função para calcular o valor intrínseco usando a fórmula de Graham\n",
    "def calcular_valor_intrinseco(LPA, VPA):\n",
    "    return np.sqrt(22.5 * LPA * VPA)\n",
    "\n",
    "# Função para calcular a margem de segurança\n",
    "def calcular_margem_de_seguranca(valor_intrinseco,preco_mercado):\n",
    "    return (valor_intrinseco - preco_mercado) / valor_intrinseco\n",
    "\n",
    "# Função para ajustar o retorno esperado baseado no valor intrínseco\n",
    "def ajustar_mu(preco_mercado, valor_intrinseco, mu_base):\n",
    "    margem_de_seguranca = calcular_margem_de_seguranca(valor_intrinseco,preco_mercado)\n",
    "    return mu_base * (1 + margem_de_seguranca )\n",
    "\n",
    "# Função para ajustar a volatilidade baseada na margem de segurança\n",
    "def ajustar_sigma(preco_mercado, valor_intrinseco, sigma_base):\n",
    "    margem_de_seguranca = calcular_margem_de_seguranca(valor_intrinseco,preco_mercado)\n",
    "    return sigma_base * (1 - margem_de_seguranca)"
   ]
  },
  {
   "cell_type": "code",
   "execution_count": 2,
   "id": "6784501c",
   "metadata": {},
   "outputs": [],
   "source": [
    "# Parâmetros do mercado\n",
    "\n",
    "#graham\n",
    "LPA = 5  # Lucro por Ação\n",
    "VPA = 20  # Valor Patrimonial por Ação\n",
    "limiar_min = 0.6 #limite inferior\n",
    "limiar_max = 1.1 #limite superior\n",
    "ponto_intermediario = 1.2 # meio termo\n",
    "\n",
    "valor_intrinseco = calcular_valor_intrinseco(LPA, VPA)\n",
    "\n",
    "#wiener\n",
    "preco_mercado = 50  # Preço de mercado atual\n",
    "mu_base = 0.05  # Retorno base (média histórica)\n",
    "sigma_base = 0.5  # Volatilidade base\n",
    "\n",
    "# Ajustar retorno esperado para visualizar graham\n",
    "mu = ajustar_mu(preco_mercado, valor_intrinseco, mu_base)\n",
    "\n",
    "#ão faz sentido alterar a volatilidade baseado em grahma\n",
    "#sigma = ajustar_sigma(preco_mercado, valor_intrinseco, sigma_base)\n",
    "sigma = sigma_base\n",
    "\n",
    "#mercado\n",
    "numero_de_ativos = 5\n",
    "mercado = []\n",
    "\n",
    "# Simulação do Movimento Browniano Geométrico (GBM)\n",
    "T = 5  # Período de tempo (5 anos)\n",
    "N = 5*12  # Número de passos (mês) \n",
    "dt = T / N  # Intervalo de tempo\n"
   ]
  },
  {
   "cell_type": "code",
   "execution_count": 3,
   "id": "b128ebb7",
   "metadata": {},
   "outputs": [],
   "source": [
    "#Criação do mercado\n",
    "\n",
    "#mudar os valores do seed dps\n",
    "\n",
    "for seed in range (1,numero_de_ativos+1):# deixar um valor fixo para poder ter reprodutibilidade\n",
    "    np.random.seed(seed)\n",
    "    W = np.random.standard_normal(size=N)\n",
    "    W = np.cumsum(W) * np.sqrt(dt) \n",
    "\n",
    "    # Preço simulado com ajuste de parâmetros\n",
    "    time = np.linspace(0, T, N)\n",
    "    ativo = preco_mercado * np.exp((mu - 0.5 * sigma**2) * time + sigma * W) # para o caso de achar que esquecemos o sqrt(t), olha o W mais em cima\n",
    "    mercado.append(ativo)"
   ]
  },
  {
   "cell_type": "code",
   "execution_count": 4,
   "id": "57e669da",
   "metadata": {},
   "outputs": [],
   "source": [
    "#Criacao dos investidores\n",
    "\n",
    "recurso_inicial = 1000\n",
    "\n",
    "#Quantidade de amostras(investidores)\n",
    "numero_de_investidores = 100\n",
    "\n",
    "\n",
    "array_min = np.linspace(limiar_min, ponto_intermediario, numero_de_investidores)  # De limiar_min até o ponto intermediário\n",
    "#array_max = np.linspace(ponto_intermediario, limiar_max, numero_de_investidores)  # Do ponto intermediário até limiar_max\n",
    "array_max =np.full(numero_de_investidores, ponto_intermediario)\n",
    "investidores = np.array([[array_min[i], array_max[i]] for i in range(numero_de_investidores)])\n",
    "\n",
    "\n",
    "#Definicao dos resultados\n",
    "carteira_investidor_i = np.zeros((numero_de_investidores, numero_de_ativos))\n",
    "resultado_investidor_i = np.full(numero_de_investidores, recurso_inicial)\n",
    "\n",
    "\n"
   ]
  },
  {
   "cell_type": "code",
   "execution_count": 5,
   "id": "30d88314",
   "metadata": {},
   "outputs": [
    {
     "ename": "NameError",
     "evalue": "name 'last_preco' is not defined",
     "output_type": "error",
     "traceback": [
      "\u001b[1;31m---------------------------------------------------------------------------\u001b[0m",
      "\u001b[1;31mNameError\u001b[0m                                 Traceback (most recent call last)",
      "\u001b[1;32m~\\AppData\\Local\\Temp/ipykernel_137616/3150102931.py\u001b[0m in \u001b[0;36m<module>\u001b[1;34m\u001b[0m\n\u001b[0;32m     25\u001b[0m                 \u001b[0mcarteira_investidor_i\u001b[0m\u001b[1;33m[\u001b[0m\u001b[0mi\u001b[0m\u001b[1;33m]\u001b[0m\u001b[1;33m[\u001b[0m\u001b[0mn_ativo\u001b[0m\u001b[1;33m]\u001b[0m \u001b[1;33m+=\u001b[0m\u001b[1;36m1\u001b[0m\u001b[1;33m\u001b[0m\u001b[1;33m\u001b[0m\u001b[0m\n\u001b[0;32m     26\u001b[0m             \u001b[1;32mif\u001b[0m \u001b[0mpasso\u001b[0m \u001b[1;33m==\u001b[0m \u001b[0mnumero_passos\u001b[0m\u001b[1;33m-\u001b[0m\u001b[1;36m1\u001b[0m\u001b[1;33m:\u001b[0m\u001b[1;33m\u001b[0m\u001b[1;33m\u001b[0m\u001b[0m\n\u001b[1;32m---> 27\u001b[1;33m                 \u001b[0mresultado_investidor_i\u001b[0m\u001b[1;33m[\u001b[0m\u001b[0mi\u001b[0m\u001b[1;33m]\u001b[0m \u001b[1;33m+=\u001b[0m \u001b[0mcarteira_investidor_i\u001b[0m\u001b[1;33m[\u001b[0m\u001b[0mi\u001b[0m\u001b[1;33m]\u001b[0m\u001b[1;33m[\u001b[0m\u001b[0mn_ativo\u001b[0m\u001b[1;33m]\u001b[0m \u001b[1;33m*\u001b[0m \u001b[0mlast_preco\u001b[0m\u001b[1;33m\u001b[0m\u001b[1;33m\u001b[0m\u001b[0m\n\u001b[0m\u001b[0;32m     28\u001b[0m         \u001b[0mn_ativo\u001b[0m\u001b[1;33m+=\u001b[0m\u001b[1;36m1\u001b[0m\u001b[1;33m\u001b[0m\u001b[1;33m\u001b[0m\u001b[0m\n\u001b[0;32m     29\u001b[0m \u001b[1;33m\u001b[0m\u001b[0m\n",
      "\u001b[1;31mNameError\u001b[0m: name 'last_preco' is not defined"
     ]
    }
   ],
   "source": [
    "#Colocar a estrategia\n",
    "n_acao_alterada_por_iteracao = 1\n",
    "max_ativos_diferentes = 5\n",
    "\n",
    "\n",
    "numero_passos = N\n",
    "for passo in range(0,numero_passos):\n",
    "#     if passo % 6 == 0:\n",
    "#         rebalancear()\n",
    "    n_ativo = 0 # para saber qual ativo\n",
    "    for ativo in mercado:\n",
    "        preco = ativo[passo]\n",
    "        gasto = preco*n_acao_alterada_por_iteracao\n",
    "        for i in range(numero_de_investidores):\n",
    "            limiar_min_i = investidores[i][0]\n",
    "            limiar_max_i = investidores[i][1]\n",
    "            numero_ativos_diferentes = np.count_nonzero(carteira_investidor_i[i])\n",
    "            if preco > valor_intrinseco*limiar_max_i and carteira_investidor_i[i][n_ativo] >=1:\n",
    "                resultado_investidor_i[i] += gasto\n",
    "                carteira_investidor_i[i][n_ativo] -= 1\n",
    "            if numero_ativos_diferentes > max_ativos_diferentes and carteira_investidor_i[i][n_ativo] == 0:\n",
    "                continue\n",
    "            if preco < valor_intrinseco*limiar_min_i and resultado_investidor_i[i]>preco :\n",
    "                resultado_investidor_i[i] -= gasto\n",
    "                carteira_investidor_i[i][n_ativo] +=1\n",
    "            if passo == numero_passos-1:\n",
    "                resultado_investidor_i[i] += carteira_investidor_i[i][n_ativo] * preco\n",
    "        n_ativo+=1\n",
    "            \n",
    "        \n",
    "    \n",
    "\n",
    "\n"
   ]
  },
  {
   "cell_type": "code",
   "execution_count": null,
   "id": "e086b331",
   "metadata": {},
   "outputs": [],
   "source": [
    "#Visualização das ações\n",
    "for S in mercado:\n",
    "    plt.plot(time, S)\n",
    "    plt.axhline(y=valor_intrinseco*limiar_min, color='b', linestyle='--', label=f'Valor Intrínseco min = {valor_intrinseco*limiar_min}')\n",
    "    plt.axhline(y=valor_intrinseco, color='r', linestyle='--', label=f'Valor Intrínseco = {valor_intrinseco}')\n",
    "    plt.axhline(y=valor_intrinseco*limiar_max, color='g', linestyle='--', label=f'Valor Intrínseco max = {valor_intrinseco*limiar_max}')\n",
    "    plt.title('Simulação de Preço de Ativo Ajustado por Graham (GBM)')\n",
    "    plt.xlabel('Tempo (anos)')\n",
    "    plt.ylabel('Preço do Ativo')\n",
    "    plt.show()"
   ]
  },
  {
   "cell_type": "code",
   "execution_count": null,
   "id": "b7cbc9e2",
   "metadata": {},
   "outputs": [],
   "source": [
    "#Visualiazação de resultados\n",
    "plt.plot(array_min,resultado_investidor_i )\n",
    "plt.title('Simulação de Preço de Ativo Ajustado por Graham (GBM)')\n",
    "plt.xlabel('Graham MIN')\n",
    "plt.ylabel('Resultado')\n",
    "plt.show()\n",
    "\n",
    "desvio_padrao =  np.std(resultado_investidor_i)\n",
    "print(\"Desvio Padrão:\",desvio_padrao )"
   ]
  },
  {
   "cell_type": "code",
   "execution_count": null,
   "id": "b808fac5",
   "metadata": {},
   "outputs": [],
   "source": []
  }
 ],
 "metadata": {
  "kernelspec": {
   "display_name": "Python 3 (ipykernel)",
   "language": "python",
   "name": "python3"
  },
  "language_info": {
   "codemirror_mode": {
    "name": "ipython",
    "version": 3
   },
   "file_extension": ".py",
   "mimetype": "text/x-python",
   "name": "python",
   "nbconvert_exporter": "python",
   "pygments_lexer": "ipython3",
   "version": "3.9.7"
  }
 },
 "nbformat": 4,
 "nbformat_minor": 5
}
